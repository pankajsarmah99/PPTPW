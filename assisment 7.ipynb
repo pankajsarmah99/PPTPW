{
 "cells": [
  {
   "cell_type": "code",
   "execution_count": 1,
   "id": "53409251-d479-4ea7-af9a-82604b0ea19e",
   "metadata": {},
   "outputs": [],
   "source": [
    "#1\n",
    "def is_isomorphic(s, t):\n",
    "    if len(s) != len(t):\n",
    "        return False\n",
    "\n",
    "    s_to_t = {}\n",
    "    t_to_s = {}\n",
    "\n",
    "    for char_s, char_t in zip(s, t):\n",
    "        if char_s in s_to_t:\n",
    "            if s_to_t[char_s] != char_t:\n",
    "                return False\n",
    "        else:\n",
    "            if char_t in t_to_s:\n",
    "                return False\n",
    "            s_to_t[char_s] = char_t\n",
    "            t_to_s[char_t] = char_s\n",
    "\n",
    "    return True\n"
   ]
  },
  {
   "cell_type": "code",
   "execution_count": 2,
   "id": "70c6ec2c-4c55-4d8d-a95b-409cfcb9481d",
   "metadata": {},
   "outputs": [],
   "source": [
    "#2\n",
    "def is_strobogrammatic(num):\n",
    "    left, right = 0, len(num) - 1\n",
    "    while left <= right:\n",
    "        if (num[left], num[right]) not in [('0', '0'), ('1', '1'), ('6', '9'), ('8', '8'), ('9', '6')]:\n",
    "            return False\n",
    "        left += 1\n",
    "        right -= 1\n",
    "    return True\n"
   ]
  },
  {
   "cell_type": "code",
   "execution_count": 3,
   "id": "04c4b15c-5eff-480c-8ca0-9d948b441fff",
   "metadata": {},
   "outputs": [],
   "source": [
    "#3\n",
    "def addStrings(num1, num2):\n",
    "    result = \"\"\n",
    "    i = len(num1) - 1\n",
    "    j = len(num2) - 1\n",
    "    carry = 0\n",
    "\n",
    "    while i >= 0 or j >= 0 or carry != 0:\n",
    "        digit1 = int(num1[i]) if i >= 0 else 0\n",
    "        digit2 = int(num2[j]) if j >= 0 else 0\n",
    "        total = digit1 + digit2 + carry\n",
    "        carry = total // 10\n",
    "        result = str(total % 10) + result\n",
    "        i -= 1\n",
    "        j -= 1\n",
    "\n",
    "    return result\n"
   ]
  },
  {
   "cell_type": "code",
   "execution_count": 4,
   "id": "48df0ad9-b119-4219-a9d9-46f2e22f6072",
   "metadata": {},
   "outputs": [],
   "source": [
    "#4\n",
    "def reverseWords(s):\n",
    "    words = s.split()\n",
    "    reversed_words = [word[::-1] for word in words]\n",
    "    reversed_sentence = ' '.join(reversed_words)\n",
    "    return reversed_sentence\n"
   ]
  },
  {
   "cell_type": "code",
   "execution_count": 5,
   "id": "b4bcf687-f8f4-4997-a6ec-29c26d825a95",
   "metadata": {},
   "outputs": [],
   "source": [
    "#5\n",
    "def reverseStr(s, k):\n",
    "    s = list(s)\n",
    "    n = len(s)\n",
    "\n",
    "    for i in range(0, n, 2 * k):\n",
    "        left = i\n",
    "        right = min(i + k - 1, n - 1)\n",
    "\n",
    "        while left < right:\n",
    "            s[left], s[right] = s[right], s[left]\n",
    "            left += 1\n",
    "            right -= 1\n",
    "\n",
    "    return ''.join(s)\n"
   ]
  },
  {
   "cell_type": "code",
   "execution_count": 6,
   "id": "5afd2c33-ca7c-4b26-b55a-aa2f4d8dc9bb",
   "metadata": {},
   "outputs": [],
   "source": [
    "#6\n",
    "\n",
    "def rotateString(s, goal):\n",
    "    s2 = s + s\n",
    "    return goal in s2\n",
    "\n"
   ]
  },
  {
   "cell_type": "code",
   "execution_count": 7,
   "id": "6a935f97-e732-4a14-aea8-c70e5ac21389",
   "metadata": {},
   "outputs": [],
   "source": [
    "#7\n",
    "def process_string(s):\n",
    "    stack = []\n",
    "    for ch in s:\n",
    "        if ch != '#':\n",
    "            stack.append(ch)\n",
    "        elif stack:\n",
    "            stack.pop()\n",
    "    return ''.join(stack)\n",
    "\n",
    "\n",
    "def backspaceCompare(s, t):\n",
    "    return process_string(s) == process_string(t)\n"
   ]
  },
  {
   "cell_type": "code",
   "execution_count": null,
   "id": "62820a5d-f5f8-46b5-97aa-2a4c85df86e7",
   "metadata": {},
   "outputs": [],
   "source": [
    "#8\n",
    "def checkStraightLine(coordinates):\n",
    "    if len(coordinates) <= 2:\n",
    "        return True\n",
    "\n",
    "    p1, p2 = coordinates[0], coordinates[1]\n",
    "    slope = (p2[1] - p1[1]) / (p2[0] - p1[0])\n",
    "\n",
    "    for i in range(2, len(coordinates)):\n",
    "        current_slope = (coordinates[i][1] - p1[1]) / (coordinates[i][0] - p1[0])\n",
    "        if current_slope != slope:\n",
    "            return False\n",
    "\n",
    "    return True\n"
   ]
  }
 ],
 "metadata": {
  "kernelspec": {
   "display_name": "Python 3 (ipykernel)",
   "language": "python",
   "name": "python3"
  },
  "language_info": {
   "codemirror_mode": {
    "name": "ipython",
    "version": 3
   },
   "file_extension": ".py",
   "mimetype": "text/x-python",
   "name": "python",
   "nbconvert_exporter": "python",
   "pygments_lexer": "ipython3",
   "version": "3.10.8"
  }
 },
 "nbformat": 4,
 "nbformat_minor": 5
}
