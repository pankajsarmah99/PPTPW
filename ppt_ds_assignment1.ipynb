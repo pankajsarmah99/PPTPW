{
 "cells": [
  {
   "cell_type": "code",
   "execution_count": 5,
   "id": "b8cb8c91",
   "metadata": {},
   "outputs": [
    {
     "name": "stdout",
     "output_type": "stream",
     "text": [
      "Reversed string: ecneicSataD\n"
     ]
    }
   ],
   "source": [
    "#Question no1\n",
    "def reverse_string(string):\n",
    "    string_list = list(string)\n",
    "    left = 0\n",
    "    right = len(string) - 1\n",
    "    while left < right:\n",
    "        string_list[left], string_list[right] = string_list[right], string_list[left]\n",
    "        left += 1\n",
    "        right -= 1\n",
    "    reversed_string = ''.join(string_list)\n",
    "    return reversed_string\n",
    "\n",
    "str=\"DataScience\"\n",
    "reversed_string = reverse_string(str)\n",
    "print(\"Reversed string:\", reversed_string)\n"
   ]
  },
  {
   "cell_type": "code",
   "execution_count": 6,
   "id": "fe78788d",
   "metadata": {},
   "outputs": [
    {
     "data": {
      "text/plain": [
       "'palindrome'"
      ]
     },
     "execution_count": 6,
     "metadata": {},
     "output_type": "execute_result"
    }
   ],
   "source": [
    "#Question no2\n",
    "def check_palindrom(str):\n",
    "    n=len(str)//2\n",
    "    s=len(str)\n",
    "    for i in range(n):\n",
    "        if(str[i]==str[s-i-1]):\n",
    "            return \"palindrome\"\n",
    "        else:\n",
    "            return \"not palindrome\"\n",
    "str=\"enene\"\n",
    "chek=check_palindrom(str)\n",
    "chek\n"
   ]
  },
  {
   "cell_type": "code",
   "execution_count": 13,
   "id": "6c9b30b9",
   "metadata": {},
   "outputs": [
    {
     "data": {
      "text/plain": [
       "5"
      ]
     },
     "execution_count": 13,
     "metadata": {},
     "output_type": "execute_result"
    }
   ],
   "source": [
    "#Question no3\n",
    "def find_largest_element(lst):\n",
    "    if not lst:\n",
    "        return None\n",
    "    largest = lst[0]\n",
    "    for num in lst:\n",
    "        if num > largest:\n",
    "            largest = num\n",
    "    return largest\n",
    "li=[1,2,3,4,5]\n",
    "larger=find_largest_element(li)\n",
    "larger"
   ]
  },
  {
   "cell_type": "code",
   "execution_count": 37,
   "id": "708c7238",
   "metadata": {},
   "outputs": [
    {
     "name": "stdout",
     "output_type": "stream",
     "text": [
      "Occurrences: {1: 1, 4: 3, 3: 1, 5: 1}\n"
     ]
    }
   ],
   "source": [
    "#question no4\n",
    "def count(lst):\n",
    "    occurr_count = {}\n",
    "    for i in lst:\n",
    "        if i in occurr_count:\n",
    "            occurr_count[i] += 1\n",
    "        else:\n",
    "            occurr_count[i] = 1\n",
    "    return occurr_count\n",
    "\n",
    "# Test the function\n",
    "list =[1,4,3,5,4,4]\n",
    "occurrence_dict =count(list)\n",
    "print(\"Occurrences:\", occurrence_dict)\n"
   ]
  },
  {
   "cell_type": "code",
   "execution_count": 44,
   "id": "cf9889f4",
   "metadata": {},
   "outputs": [
    {
     "name": "stdout",
     "output_type": "stream",
     "text": [
      "Second largest number: 5\n"
     ]
    }
   ],
   "source": [
    "#question no5\n",
    "def find_second_largest(lst):\n",
    "    if len(lst) < 2:\n",
    "        return None\n",
    "    largest =0\n",
    "    second_largest =0\n",
    "    for num in lst:\n",
    "        if num > largest:\n",
    "            second_largest = largest\n",
    "            largest = num\n",
    "        elif num > second_largest and num != largest:\n",
    "            second_largest = num\n",
    "    return second_largest\n",
    "input_list =[2,5,3,4,9]\n",
    "second_largest = find_second_largest(input_list)\n",
    "print(\"Second largest number:\", second_largest)\n"
   ]
  },
  {
   "cell_type": "code",
   "execution_count": 62,
   "id": "345e92f6",
   "metadata": {},
   "outputs": [
    {
     "name": "stdout",
     "output_type": "stream",
     "text": [
      "unique list:([1, 2, 3, 4], [])\n",
      " dublicate elemnt are=\n"
     ]
    }
   ],
   "source": [
    "#question no6\n",
    "def remove_dub(n):\n",
    "    res = []\n",
    "    dublicate=[]\n",
    "    for i in n:\n",
    "        if i not in res:\n",
    "            res.append(i)\n",
    "        else:\n",
    "            n.remove(i)\n",
    "    return res,dublicate\n",
    "li=[1,2,3,2,3,4,1]\n",
    "print(\"unique list:-\",remove_dub(l)"
   ]
  },
  {
   "cell_type": "code",
   "execution_count": 3,
   "id": "685682a3",
   "metadata": {},
   "outputs": [
    {
     "name": "stdout",
     "output_type": "stream",
     "text": [
      "6\n"
     ]
    }
   ],
   "source": [
    "#question no7\n",
    "def fact(n):\n",
    "    if n==0 or n==1:\n",
    "        return 1\n",
    "    else:\n",
    "        return n*fact(n-1)\n",
    "n=3\n",
    "print(fact(n))"
   ]
  },
  {
   "cell_type": "code",
   "execution_count": 4,
   "id": "c11ce64d",
   "metadata": {},
   "outputs": [
    {
     "name": "stdout",
     "output_type": "stream",
     "text": [
      "enter number for prime or not:-8\n",
      "(8, 'is not prime number')\n"
     ]
    }
   ],
   "source": [
    "#Question no8\n",
    "def checkprime(num):\n",
    "    c=0\n",
    "    for i in range(1,num+1):\n",
    "        if(num%i==0):\n",
    "            c=c+1\n",
    "    if(c==2):    \n",
    "        return (num,\"is prime number\")\n",
    "    else:\n",
    "        return (num,\"is not prime number\")\n",
    "num=int(input(\"enter number for prime or not:-\"))\n",
    "print(checkprime(num))"
   ]
  },
  {
   "cell_type": "code",
   "execution_count": 6,
   "id": "a1bffdc2",
   "metadata": {},
   "outputs": [
    {
     "name": "stdout",
     "output_type": "stream",
     "text": [
      "Sorted list: [1, 2, 3, 5, 6, 8]\n"
     ]
    }
   ],
   "source": [
    "#question no9\n",
    "def sort_list(lst):\n",
    "    for i in range(len(lst)):\n",
    "        for j in range(i+1, len(lst)):\n",
    "            if lst[j] < lst[i]:\n",
    "                lst[i], lst[j] = lst[j], lst[i]\n",
    "\n",
    "input_list = [2,5,3,8,1,6]\n",
    "sort_list(input_list)\n",
    "print(\"Sorted list:\", input_list)\n"
   ]
  },
  {
   "cell_type": "code",
   "execution_count": 7,
   "id": "1cd035cb",
   "metadata": {},
   "outputs": [
    {
     "name": "stdout",
     "output_type": "stream",
     "text": [
      "sum of all list item is 10\n"
     ]
    }
   ],
   "source": [
    "#question no10\n",
    "def sum(arr):\n",
    "    sum=0\n",
    "    for i in arr:\n",
    "        sum+=i\n",
    "    return sum\n",
    "lis=[1,2,3,4]\n",
    "print(\"sum of all list item is\",sum(lis))"
   ]
  },
  {
   "cell_type": "code",
   "execution_count": 12,
   "id": "4bc5b79a",
   "metadata": {},
   "outputs": [
    {
     "name": "stdout",
     "output_type": "stream",
     "text": [
      "[2, 3, 5]\n"
     ]
    }
   ],
   "source": [
    "#Question no11\n",
    "def common_elements(list1, list2):\n",
    "    common_elements = []\n",
    "    for element in list1:\n",
    "        if element in list2 and element not in common_elements:\n",
    "            common_elements.append(element)\n",
    "    return common_elements\n",
    "li1=[1,2,3,4,5]\n",
    "li2=[8,9,3,2,5]\n",
    "print(common_elements(li1,li2))"
   ]
  },
  {
   "cell_type": "code",
   "execution_count": 14,
   "id": "819e683e",
   "metadata": {},
   "outputs": [
    {
     "name": "stdout",
     "output_type": "stream",
     "text": [
      "The strings are anagrams.\n"
     ]
    }
   ],
   "source": [
    "#question no12\n",
    "def is_anagram(str1, str2):\n",
    "    str1 = str1.lower()\n",
    "    str2 = str2.lower()\n",
    "\n",
    "    # Remove whitespace and punctuation\n",
    "    str1 = ''.join(ch for ch in str1 if ch.isalnum())\n",
    "    str2 = ''.join(ch for ch in str2 if ch.isalnum())\n",
    "\n",
    "    if len(str1) != len(str2):\n",
    "        return False\n",
    "\n",
    "    char_count = {}\n",
    "    for char in str1:\n",
    "        if char in char_count:\n",
    "            char_count[char] += 1\n",
    "        else:\n",
    "            char_count[char] = 1\n",
    "\n",
    "    for char in str2:\n",
    "        if char in char_count:\n",
    "            char_count[char] -= 1\n",
    "        else:\n",
    "            return False\n",
    "\n",
    "    return all(count == 0 for count in char_count.values())\n",
    "\n",
    "# Test the function\n",
    "input_str1 = \"listen\"\n",
    "input_str2 = \"silent\"\n",
    "\n",
    "if is_anagram(input_str1, input_str2):\n",
    "    print(\"The strings are anagrams.\")\n",
    "else:\n",
    "    print(\"The strings are not anagrams.\")\n"
   ]
  },
  {
   "cell_type": "code",
   "execution_count": 16,
   "id": "4ba48812",
   "metadata": {},
   "outputs": [
    {
     "name": "stdout",
     "output_type": "stream",
     "text": [
      "Enter a string: raj\n",
      "Permutations of raj :\n",
      "raj\n",
      "rja\n",
      "arj\n",
      "ajr\n",
      "jra\n",
      "jar\n"
     ]
    }
   ],
   "source": [
    "#question no13\n",
    "def generate_permutations(string):\n",
    "    # Base case: If the string is empty, return an empty list\n",
    "    if len(string) == 0:\n",
    "        return []\n",
    "\n",
    "    # Base case: If the string has only one character, return the string as a single permutation\n",
    "    if len(string) == 1:\n",
    "        return [string]\n",
    "\n",
    "    # Recursive case:\n",
    "    permutations = []  # List to store permutations\n",
    "\n",
    "    # Iterate through each character in the string\n",
    "    for i in range(len(string)):\n",
    "        # Extract the current character\n",
    "        current_char = string[i]\n",
    "\n",
    "        # Generate permutations of the remaining characters\n",
    "        remaining_chars = string[:i] + string[i+1:]\n",
    "        sub_permutations = generate_permutations(remaining_chars)\n",
    "\n",
    "        # Append the current character to each permutation of the remaining character\n",
    "        for sub_permutation in sub_permutations:\n",
    "            permutations.append(current_char + sub_permutation)\n",
    "\n",
    "    return permutations\n",
    "\n",
    "# Test the program\n",
    "input_string = input(\"Enter a string: \")\n",
    "permutations = generate_permutations(input_string)\n",
    "print(\"Permutations of\", input_string, \":\")\n",
    "for permutation in permutations:\n",
    "    print(permutation)\n",
    "\n"
   ]
  },
  {
   "cell_type": "code",
   "execution_count": 17,
   "id": "c859db6a",
   "metadata": {},
   "outputs": [
    {
     "name": "stdout",
     "output_type": "stream",
     "text": [
      "Enter the number of terms: 7\n",
      "Fibonacci sequence up to 7 terms:\n",
      "[0, 1, 1, 2, 3, 5, 8]\n"
     ]
    }
   ],
   "source": [
    "#question no14\n",
    "def fibonacci_sequence(n):\n",
    "    sequence = []\n",
    "\n",
    "    if n >= 1:\n",
    "        sequence.append(0)\n",
    "    if n >= 2:\n",
    "        sequence.append(1)\n",
    "\n",
    "    for i in range(2, n):\n",
    "        next_term = sequence[i-1] + sequence[i-2]\n",
    "        sequence.append(next_term)\n",
    "\n",
    "    return sequence\n",
    "input_terms = int(input(\"Enter the number of terms: \"))\n",
    "fibonacci_seq = fibonacci_sequence(input_terms)\n",
    "print(\"Fibonacci sequence up to\", input_terms, \"terms:\")\n",
    "print(fibonacci_seq)\n"
   ]
  },
  {
   "cell_type": "code",
   "execution_count": 26,
   "id": "48f84c2d",
   "metadata": {},
   "outputs": [
    {
     "name": "stdout",
     "output_type": "stream",
     "text": [
      "Median: 3.5\n"
     ]
    }
   ],
   "source": [
    "#question no15\n",
    "def find_median(numbers):\n",
    "    sorted_numbers = sorted(numbers)\n",
    "    length = len(sorted_numbers)\n",
    "    \n",
    "    if length % 2 == 1:\n",
    "        median = sorted_numbers[length // 2]\n",
    "    else:\n",
    "        mid_right = length // 2\n",
    "        mid_left = mid_right - 1\n",
    "        median = (sorted_numbers[mid_left] + sorted_numbers[mid_right]) / 2\n",
    "    \n",
    "    return median\n",
    "\n",
    "# Test the program\n",
    "input_numbers =[2,1,3,4,5,6]\n",
    "median = find_median(input_numbers)\n",
    "print(\"Median:\", median)\n"
   ]
  },
  {
   "cell_type": "code",
   "execution_count": null,
   "id": "3dec2bab",
   "metadata": {},
   "outputs": [],
   "source": [
    "#question no16\n",
    "def is_sorted(lst):\n",
    "    n = len(lst)\n",
    "    for i in range(1, n):\n",
    "        if lst[i] < lst[i-1]:\n",
    "            return False\n",
    "    return True\n",
    "\n",
    "# Test the function\n",
    "input_list = input(\"Enter a list of numbers (space-separated): \").split()\n",
    "numbers = [int(num) for num in input_list]\n",
    "if is_sorted(numbers):\n",
    "    print(\"The list is sorted in non-decreasing order.\")\n",
    "else:\n",
    "    print(\"The list is not sorted in non-decreasing order.\")\n"
   ]
  },
  {
   "cell_type": "code",
   "execution_count": null,
   "id": "a0bf6f7f",
   "metadata": {},
   "outputs": [],
   "source": [
    "#question no17\n",
    "def find_intersection(list1, list2):\n",
    "    set1 = set(list1)\n",
    "    set2 = set(list2)\n",
    "    intersection = set1.intersection(set2)\n",
    "    return list(intersection)\n",
    "\n",
    "# Test the program\n",
    "input_list1 = input(\"Enter the first list (space-separated): \").split()\n",
    "input_list2 = input(\"Enter the second list (space-separated): \").split()\n",
    "\n",
    "list1 = [int(num) for num in input_list1]\n",
    "list2 = [int(num) for num in input_list2]\n",
    "\n",
    "intersection = find_intersection(list1, list2)\n",
    "print(\"Intersection of the two lists:\", intersection)\n"
   ]
  },
  {
   "cell_type": "code",
   "execution_count": null,
   "id": "bfe63530",
   "metadata": {},
   "outputs": [],
   "source": [
    "#quetsion no18\n",
    "def maxsubarray(arr):\n",
    "    l=[]\n",
    "    sum=0\n",
    "    maxi=arr[0]\n",
    "    for i in range(len(arr)):\n",
    "        #currrnt sub array sum\n",
    "        sum+=arr[i]\n",
    "        if(sum>maxi):\n",
    "            maxi=sum\n",
    "        if(sum<0):\n",
    "            sum=0\n",
    "    return maxi\n",
    "arr=[-2,1,-3,4,-1,2,1,-5,4]\n",
    "max=maxsubarray(arr)\n",
    "print(max)"
   ]
  },
  {
   "cell_type": "code",
   "execution_count": null,
   "id": "f87123f6",
   "metadata": {},
   "outputs": [],
   "source": [
    "#question no19\n",
    "def remove_vowels(string):\n",
    "    vowels = \"aeiouAEIOU\"\n",
    "    filtered_string = \"\"\n",
    "    for char in string:\n",
    "        if char not in vowels:\n",
    "            filtered_string += char\n",
    "    return filtered_string\n",
    "\n",
    "# Test the program\n",
    "input_string = input(\"Enter a string: \")\n",
    "filtered_string = remove_vowels(input_string)\n",
    "print(\"String with vowels removed:\", filtered_string)\n"
   ]
  },
  {
   "cell_type": "code",
   "execution_count": null,
   "id": "00a81429",
   "metadata": {},
   "outputs": [],
   "source": [
    "#question no20\n",
    "def reverse_sentence(sentence):\n",
    "    words = sentence.split()  # Split sentence into words\n",
    "    reversed_words = words[::-1]  # Reverse the order of words\n",
    "    reversed_sentence = ' '.join(reversed_words)  # Join words back into a sentence\n",
    "    return reversed_sentence\n",
    "\n",
    "# Test the function\n",
    "input_sentence = input(\"Enter a sentence: \")\n",
    "reversed_sentence = reverse_sentence(input_sentence)\n",
    "print(\"Reversed sentence:\", reversed_sentence)\n"
   ]
  },
  {
   "cell_type": "code",
   "execution_count": null,
   "id": "919a61ad",
   "metadata": {},
   "outputs": [],
   "source": []
  }
 ],
 "metadata": {
  "kernelspec": {
   "display_name": "Python 3 (ipykernel)",
   "language": "python",
   "name": "python3"
  },
  "language_info": {
   "codemirror_mode": {
    "name": "ipython",
    "version": 3
   },
   "file_extension": ".py",
   "mimetype": "text/x-python",
   "name": "python",
   "nbconvert_exporter": "python",
   "pygments_lexer": "ipython3",
   "version": "3.10.6"
  }
 },
 "nbformat": 4,
 "nbformat_minor": 5
}
