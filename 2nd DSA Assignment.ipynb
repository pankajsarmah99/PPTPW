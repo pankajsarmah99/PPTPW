{
 "cells": [
  {
   "cell_type": "code",
   "execution_count": 23,
   "id": "34c9e8ef",
   "metadata": {},
   "outputs": [
    {
     "name": "stdout",
     "output_type": "stream",
     "text": [
      "Maximum sum: 4\n",
      "Time Complexity is=O(N)\n",
      "Space Complixity is =O(1)\n"
     ]
    }
   ],
   "source": [
    "#Question no1.\n",
    "\n",
    "def arrayPairSum(nums):\n",
    "    nums.sort() #we short because the even index num represent minimum value in each pair\n",
    "    sum = 0\n",
    "    for i in range(0, len(nums), 2):\n",
    "        sum += nums[i]\n",
    "    return sum\n",
    "\n",
    "nums = [1, 4, 3, 2]\n",
    "maxSum = arrayPairSum(nums)\n",
    "print(\"Maximum sum:\", maxSum)\n",
    "print(\"Time Complexity is=O(N)\")\n",
    "print(\"Space Complixity is =O(1)\")\n"
   ]
  },
  {
   "cell_type": "code",
   "execution_count": 24,
   "id": "61d8faec",
   "metadata": {},
   "outputs": [
    {
     "name": "stdout",
     "output_type": "stream",
     "text": [
      "Maximum number of different types of candies Alice eat: 3\n"
     ]
    }
   ],
   "source": [
    "# Question no 2\n",
    "def max_candies(candy_type):\n",
    "    unique_candies = set()\n",
    "    max_allowed = len(candy_type) // 2\n",
    "\n",
    "    for candy in candy_type:\n",
    "        unique_candies.add(candy)\n",
    "        if len(unique_candies) == max_allowed:\n",
    "            break\n",
    "\n",
    "    return len(unique_candies)\n",
    "\n",
    "candy_type = [1, 1, 2, 2, 3, 3]\n",
    "max_types = max_candies(candy_type)\n",
    "print(\"Maximum number of different types of candies Alice eat:\", max_types)\n"
   ]
  },
  {
   "cell_type": "code",
   "execution_count": 25,
   "id": "dffbb1e9",
   "metadata": {},
   "outputs": [
    {
     "name": "stdout",
     "output_type": "stream",
     "text": [
      "the longest harmonious subsequence length is: 5\n"
     ]
    }
   ],
   "source": [
    "#Question no 3.\n",
    "def findLHS(nums):\n",
    "    count = {}\n",
    "    longest_seq = 0\n",
    "    \n",
    "    for num in nums:\n",
    "        count[num] = count.get(num, 0) + 1\n",
    "    \n",
    "    for num in count:\n",
    "        if num + 1 in count:\n",
    "            longest_seq = max(longest_seq, count[num] + count[num + 1])\n",
    "    \n",
    "    return longest_seq\n",
    "\n",
    "nums = [1, 3, 2, 2, 5, 2, 3, 7]\n",
    "longest_subsequence = findLHS(nums)\n",
    "print(\"the longest harmonious subsequence length is:\", longest_subsequence)\n"
   ]
  },
  {
   "cell_type": "code",
   "execution_count": 26,
   "id": "71e08dc7",
   "metadata": {},
   "outputs": [
    {
     "name": "stdout",
     "output_type": "stream",
     "text": [
      "True\n"
     ]
    }
   ],
   "source": [
    "#question no 4\n",
    "def canPlaceFlowers(flowerbed, n):\n",
    "    count = 0\n",
    "    size = len(flowerbed)\n",
    "    i = 0\n",
    "\n",
    "    while i < size:\n",
    "        if flowerbed[i] == 0 and (i == 0 or flowerbed[i-1] == 0) and (i == size-1 or flowerbed[i+1] == 0):\n",
    "            count += 1\n",
    "            i += 2\n",
    "        else:\n",
    "            i += 1\n",
    "\n",
    "    return count >= n\n",
    "\n",
    "flowerbed = [1, 0, 0, 0, 1]\n",
    "n = 1\n",
    "result = canPlaceFlowers(flowerbed, n)\n",
    "print(result)\n"
   ]
  },
  {
   "cell_type": "code",
   "execution_count": 27,
   "id": "ed0c8d39",
   "metadata": {},
   "outputs": [
    {
     "name": "stdout",
     "output_type": "stream",
     "text": [
      "6\n",
      "time complexity is = n( log n)\n",
      "space complexity is=o(1)\n"
     ]
    }
   ],
   "source": [
    "#Question no5\n",
    "def maximumProduct(nums):\n",
    "    nums.sort()\n",
    "    n = len(nums)\n",
    "    max_product = nums[n-1] * nums[n-2] * nums[n-3]\n",
    "    alt_product = nums[0] * nums[1] * nums[n-1]\n",
    "    return max(max_product, alt_product)\n",
    "\n",
    "nums = [1, 2, 3]\n",
    "result = maximumProduct(nums)\n",
    "print(result)\n",
    "print(\"time complexity is = n( log n)\")\n",
    "print(\"space complexity is=o(1)\")\n"
   ]
  },
  {
   "cell_type": "code",
   "execution_count": 28,
   "id": "82c8d1b3",
   "metadata": {},
   "outputs": [
    {
     "name": "stdout",
     "output_type": "stream",
     "text": [
      "4\n"
     ]
    }
   ],
   "source": [
    "#Question no6\n",
    "def find(nums, target):\n",
    "    left = 0\n",
    "    right = len(nums) - 1\n",
    "\n",
    "    while left <= right:\n",
    "        mid = (left + right) // 2\n",
    "\n",
    "        if nums[mid] == target:\n",
    "            return mid\n",
    "        elif nums[mid] > target:\n",
    "            right = mid - 1\n",
    "        else:\n",
    "            left = mid + 1\n",
    "\n",
    "    return -1\n",
    "\n",
    "nums = [-1, 0, 3, 5, 9, 12]\n",
    "target = 9\n",
    "result = find(nums, target)\n",
    "print(result)\n"
   ]
  },
  {
   "cell_type": "code",
   "execution_count": 29,
   "id": "cc0678fa",
   "metadata": {},
   "outputs": [
    {
     "name": "stdout",
     "output_type": "stream",
     "text": [
      "True\n"
     ]
    }
   ],
   "source": [
    "#Question no7\n",
    "def isMonotonic(nums):\n",
    "    increasing = decreasing = True\n",
    "\n",
    "    for i in range(1, len(nums)):\n",
    "        if nums[i] < nums[i - 1]:\n",
    "            increasing = False\n",
    "        if nums[i] > nums[i - 1]:\n",
    "            decreasing = False\n",
    "\n",
    "    return increasing or decreasing\n",
    "\n",
    "nums = [1, 2, 2, 3]\n",
    "result = isMonotonic(nums)\n",
    "print(result)\n"
   ]
  },
  {
   "cell_type": "code",
   "execution_count": 30,
   "id": "da80a487",
   "metadata": {},
   "outputs": [
    {
     "name": "stdout",
     "output_type": "stream",
     "text": [
      "0\n"
     ]
    }
   ],
   "source": [
    "#Question no8\n",
    "def minDifference(nums, k):\n",
    "    n = len(nums)\n",
    "    if n <= 1:\n",
    "        return 0\n",
    "\n",
    "    nums.sort()\n",
    "\n",
    "    minScore = nums[-1] - nums[0]\n",
    "\n",
    "    for i in range(n-1):\n",
    "        small = min(nums[0] + k, nums[i+1] - k)\n",
    "        large = max(nums[i] + k, nums[-1] - k)\n",
    "        minScore = min(minScore, large - small)\n",
    "\n",
    "    return minScore\n",
    "\n",
    "nums = [1]\n",
    "k = 0\n",
    "result = minDifference(nums, k)\n",
    "print(result)\n"
   ]
  },
  {
   "cell_type": "code",
   "execution_count": null,
   "id": "be4717c3",
   "metadata": {},
   "outputs": [],
   "source": []
  }
 ],
 "metadata": {
  "kernelspec": {
   "display_name": "Python 3 (ipykernel)",
   "language": "python",
   "name": "python3"
  },
  "language_info": {
   "codemirror_mode": {
    "name": "ipython",
    "version": 3
   },
   "file_extension": ".py",
   "mimetype": "text/x-python",
   "name": "python",
   "nbconvert_exporter": "python",
   "pygments_lexer": "ipython3",
   "version": "3.10.6"
  }
 },
 "nbformat": 4,
 "nbformat_minor": 5
}
