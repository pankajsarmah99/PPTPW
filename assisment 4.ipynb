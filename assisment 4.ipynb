{
 "cells": [
  {
   "cell_type": "code",
   "execution_count": 2,
   "id": "1a16841a",
   "metadata": {},
   "outputs": [],
   "source": [
    "#1\n",
    "def find_common_elements(arr1, arr2, arr3):\n",
    "    ptr1, ptr2, ptr3 = 0, 0, 0\n",
    "    result = []\n",
    "\n",
    "    while ptr1 < len(arr1) and ptr2 < len(arr2) and ptr3 < len(arr3):\n",
    "        if arr1[ptr1] == arr2[ptr2] == arr3[ptr3]:\n",
    "            result.append(arr1[ptr1])\n",
    "            ptr1 += 1\n",
    "            ptr2 += 1\n",
    "            ptr3 += 1\n",
    "        elif arr1[ptr1] < min(arr2[ptr2], arr3[ptr3]):\n",
    "            ptr1 += 1\n",
    "        elif arr2[ptr2] < min(arr1[ptr1], arr3[ptr3]):\n",
    "            ptr2 += 1\n",
    "        elif arr3[ptr3] < min(arr1[ptr1], arr2[ptr2]):\n",
    "            ptr3 += 1\n",
    "\n",
    "    return result\n",
    "\n",
    "\n",
    "\n",
    "\n",
    "\n",
    "\n"
   ]
  },
  {
   "cell_type": "code",
   "execution_count": 3,
   "id": "1e8dc21c",
   "metadata": {},
   "outputs": [],
   "source": [
    "#2\n",
    "def find_disjoint_nums(nums1, nums2):\n",
    "    set1 = set(nums1)\n",
    "    set2 = set(nums2)\n",
    "    answer1 = []\n",
    "    answer2 = []\n",
    "\n",
    "    for num in nums1:\n",
    "        if num not in set2:\n",
    "            answer1.append(num)\n",
    "\n",
    "    for num in nums2:\n",
    "        if num not in set1:\n",
    "            answer2.append(num)\n",
    "\n",
    "    return [answer1, answer2]"
   ]
  },
  {
   "cell_type": "code",
   "execution_count": 4,
   "id": "95247794",
   "metadata": {},
   "outputs": [],
   "source": [
    "#3\n",
    "def transpose(matrix):\n",
    "    transpose = []\n",
    "\n",
    "    for column_index in range(len(matrix[0])):\n",
    "        row = []\n",
    "        for row_index in range(len(matrix)):\n",
    "            row.append(matrix[row_index][column_index])\n",
    "        transpose.append(row)\n",
    "\n",
    "    return transpose"
   ]
  },
  {
   "cell_type": "code",
   "execution_count": 5,
   "id": "3c5c03a6",
   "metadata": {},
   "outputs": [],
   "source": [
    "#4\n",
    "def array_pair_sum(nums):\n",
    "    nums.sort()\n",
    "    max_sum = 0\n",
    "\n",
    "    for i in range(0, len(nums), 2):\n",
    "        max_sum += min(nums[i], nums[i+1])\n",
    "\n",
    "    return max_sum"
   ]
  },
  {
   "cell_type": "code",
   "execution_count": 6,
   "id": "03820d0a",
   "metadata": {},
   "outputs": [],
   "source": [
    "#5\n",
    "def arrange_coins(n):\n",
    "    rows = 0\n",
    "    total_coins = 0\n",
    "\n",
    "    while total_coins + rows + 1 <= n:\n",
    "        rows += 1\n",
    "        total_coins += rows\n",
    "\n",
    "    return rows"
   ]
  },
  {
   "cell_type": "code",
   "execution_count": 7,
   "id": "a23aa56a",
   "metadata": {},
   "outputs": [],
   "source": [
    "#6\n",
    "def sorted_squares(nums):\n",
    "    result = []\n",
    "\n",
    "    for num in nums:\n",
    "        result.append(num * num)\n",
    "\n",
    "    result.sort()\n",
    "\n",
    "    return result\n"
   ]
  },
  {
   "cell_type": "code",
   "execution_count": 8,
   "id": "f546f49f",
   "metadata": {},
   "outputs": [],
   "source": [
    "#7\n",
    "def max_count(m, n, ops):\n",
    "    for op in ops:\n",
    "        m = min(m, op[0])\n",
    "        n = min(n, op[1])\n",
    "\n",
    "    return m * n"
   ]
  },
  {
   "cell_type": "code",
   "execution_count": null,
   "id": "e0ed9337",
   "metadata": {},
   "outputs": [],
   "source": [
    "#8\n",
    "def shuffle(nums, n):\n",
    "    result = []\n",
    "\n",
    "    for i in range(n):\n",
    "        result.append(nums[i])\n",
    "        result.append(nums[i+n])\n",
    "\n",
    "    return result"
   ]
  }
 ],
 "metadata": {
  "kernelspec": {
   "display_name": "Python 3 (ipykernel)",
   "language": "python",
   "name": "python3"
  },
  "language_info": {
   "codemirror_mode": {
    "name": "ipython",
    "version": 3
   },
   "file_extension": ".py",
   "mimetype": "text/x-python",
   "name": "python",
   "nbconvert_exporter": "python",
   "pygments_lexer": "ipython3",
   "version": "3.10.9"
  }
 },
 "nbformat": 4,
 "nbformat_minor": 5
}
