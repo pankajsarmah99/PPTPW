{
 "cells": [
  {
   "cell_type": "code",
   "execution_count": 1,
   "id": "40131521",
   "metadata": {},
   "outputs": [],
   "source": [
    "#1\n",
    "def convert_to_2d_array(original, m, n):\n",
    "    if m * n != len(original):\n",
    "        return []  # Return empty 2D array if the sizes don't match\n",
    "\n",
    "    result = [[0] * n for _ in range(m)]  # Initialize the 2D array with zeros\n",
    "\n",
    "    for i in range(len(original)):\n",
    "        row = i // n  # Calculate the row index\n",
    "        col = i % n   # Calculate the column index\n",
    "        result[row][col] = original[i]  # Assign the element to the corresponding position\n",
    "\n",
    "    return result\n"
   ]
  },
  {
   "cell_type": "code",
   "execution_count": 2,
   "id": "c1f98b94",
   "metadata": {},
   "outputs": [],
   "source": [
    "#2\n",
    "def arrange_coins(n):\n",
    "    k = 0  # Number of rows\n",
    "    while n >= k + 1:\n",
    "        k += 1\n",
    "        n -= k  # Subtract the coins needed to form the current row\n",
    "    return k\n"
   ]
  },
  {
   "cell_type": "code",
   "execution_count": 3,
   "id": "3d4e56fc",
   "metadata": {},
   "outputs": [],
   "source": [
    "#3\n",
    "def sorted_squares(nums):\n",
    "    n = len(nums)\n",
    "    result = [0] * n  # Initialize the result array\n",
    "\n",
    "    left = 0\n",
    "    right = n - 1\n",
    "    index = n - 1\n",
    "\n",
    "    while left <= right:\n",
    "        if abs(nums[left]) > abs(nums[right]):\n",
    "            result[index] = nums[left] ** 2\n",
    "            left += 1\n",
    "        else:\n",
    "            result[index] = nums[right] ** 2\n",
    "            right -= 1\n",
    "        index -= 1\n",
    "\n",
    "    return result\n",
    "\n",
    "        \n",
    "        \n"
   ]
  },
  {
   "cell_type": "code",
   "execution_count": 4,
   "id": "dc6d621b",
   "metadata": {},
   "outputs": [],
   "source": [
    "#4\n",
    "def find_disjoint(nums1, nums2):\n",
    "    diff1 = set(nums1) - set(nums2)\n",
    "    diff2 = set(nums2) - set(nums1)\n",
    "\n",
    "    return [list(diff1), list(diff2)]"
   ]
  },
  {
   "cell_type": "code",
   "execution_count": 5,
   "id": "21fda010",
   "metadata": {},
   "outputs": [],
   "source": [
    "#5\n",
    "def distance_value(arr1, arr2, d):\n",
    "    distance = 0\n",
    "\n",
    "    for num1 in arr1:\n",
    "        found = False\n",
    "\n",
    "        for num2 in arr2:\n",
    "            if abs(num1 - num2) <= d:\n",
    "                found = True\n",
    "                break\n",
    "\n",
    "        if not found:\n",
    "            distance += 1\n",
    "\n",
    "    return distance\n"
   ]
  },
  {
   "cell_type": "code",
   "execution_count": 6,
   "id": "c51e022e",
   "metadata": {},
   "outputs": [],
   "source": [
    "#6\n",
    "def find_duplicates(nums):\n",
    "    duplicates = []\n",
    "\n",
    "    for num in nums:\n",
    "        index = abs(num) - 1\n",
    "\n",
    "        if nums[index] < 0:\n",
    "            duplicates.append(abs(num))\n",
    "        else:\n",
    "            nums[index] = -nums[index]\n",
    "\n",
    "    return duplicates\n"
   ]
  },
  {
   "cell_type": "code",
   "execution_count": 7,
   "id": "736e071e",
   "metadata": {},
   "outputs": [],
   "source": [
    "#7\n",
    "def find_min(nums):\n",
    "    left = 0\n",
    "    right = len(nums) - 1\n",
    "\n",
    "    while left < right:\n",
    "        mid = left + (right - left) // 2\n",
    "\n",
    "        if nums[mid] > nums[right]:\n",
    "            # The minimum element is in the right half\n",
    "            left = mid + 1\n",
    "        else:\n",
    "            # The minimum element is in the left half or at the mid index\n",
    "            right = mid\n",
    "\n",
    "    return nums[left]\n"
   ]
  },
  {
   "cell_type": "code",
   "execution_count": null,
   "id": "c5e1d3e5",
   "metadata": {},
   "outputs": [],
   "source": [
    "#8\n",
    "def find_original(changed):\n",
    "    original_set = set()\n",
    "\n",
    "    for num in changed:\n",
    "        if num / 2 not in original_set:\n",
    "            return []\n",
    "\n",
    "        original_set.add(num)\n",
    "\n",
    "    return list(original_set)\n"
   ]
  }
 ],
 "metadata": {
  "kernelspec": {
   "display_name": "Python 3 (ipykernel)",
   "language": "python",
   "name": "python3"
  },
  "language_info": {
   "codemirror_mode": {
    "name": "ipython",
    "version": 3
   },
   "file_extension": ".py",
   "mimetype": "text/x-python",
   "name": "python",
   "nbconvert_exporter": "python",
   "pygments_lexer": "ipython3",
   "version": "3.10.9"
  }
 },
 "nbformat": 4,
 "nbformat_minor": 5
}
